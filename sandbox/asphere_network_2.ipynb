{
 "cells": [
  {
   "cell_type": "markdown",
   "id": "9048bacc-ac28-4c5e-ba36-9561a96d099b",
   "metadata": {},
   "source": [
    "# Test alpha-spheres network 2"
   ]
  },
  {
   "cell_type": "code",
   "execution_count": 1,
   "id": "cf7aef0d-3ef9-4060-a568-8a672f10998a",
   "metadata": {},
   "outputs": [
    {
     "data": {
      "application/vnd.jupyter.widget-view+json": {
       "model_id": "426007c7987f4fcfaaa52fceb3e93f28",
       "version_major": 2,
       "version_minor": 0
      },
      "text/plain": []
     },
     "metadata": {},
     "output_type": "display_data"
    }
   ],
   "source": [
    "import molsysmt as msm"
   ]
  },
  {
   "cell_type": "code",
   "execution_count": 2,
   "id": "57c90a91-34c2-4510-be45-71310cf88ee6",
   "metadata": {},
   "outputs": [],
   "source": [
    "from scipy.spatial import Voronoi\n",
    "from math import sqrt"
   ]
  },
  {
   "cell_type": "code",
   "execution_count": 3,
   "id": "7281f39b-3070-48fe-afe6-7dd8de4d16d1",
   "metadata": {},
   "outputs": [],
   "source": [
    "from scipy.spatial.distance import euclidean"
   ]
  },
  {
   "cell_type": "code",
   "execution_count": 4,
   "id": "7cf4b593-d09e-498c-b8f8-94687751e6b4",
   "metadata": {},
   "outputs": [],
   "source": [
    "import numpy as np"
   ]
  },
  {
   "cell_type": "code",
   "execution_count": 5,
   "id": "fe1438b3-4490-4a14-9c0f-1f40cbdf07f1",
   "metadata": {},
   "outputs": [],
   "source": [
    "from tqdm import tqdm"
   ]
  },
  {
   "cell_type": "code",
   "execution_count": 6,
   "id": "77c9fff6-bce6-4300-9988-84f06615f08c",
   "metadata": {},
   "outputs": [],
   "source": [
    "molecular_system = msm.convert('1HIV')\n",
    "molecular_system = msm.extract(molecular_system, selection='molecule_type in [\"protein\", \"peptide\"]')"
   ]
  },
  {
   "cell_type": "code",
   "execution_count": 7,
   "id": "1217e661-a40b-43f6-8d5c-d297871c1039",
   "metadata": {},
   "outputs": [
    {
     "data": {
      "text/html": [
       "<style type=\"text/css\">\n",
       "</style>\n",
       "<table id=\"T_ec1f9\">\n",
       "  <thead>\n",
       "    <tr>\n",
       "      <th id=\"T_ec1f9_level0_col0\" class=\"col_heading level0 col0\" >form</th>\n",
       "      <th id=\"T_ec1f9_level0_col1\" class=\"col_heading level0 col1\" >n_atoms</th>\n",
       "      <th id=\"T_ec1f9_level0_col2\" class=\"col_heading level0 col2\" >n_groups</th>\n",
       "      <th id=\"T_ec1f9_level0_col3\" class=\"col_heading level0 col3\" >n_components</th>\n",
       "      <th id=\"T_ec1f9_level0_col4\" class=\"col_heading level0 col4\" >n_chains</th>\n",
       "      <th id=\"T_ec1f9_level0_col5\" class=\"col_heading level0 col5\" >n_molecules</th>\n",
       "      <th id=\"T_ec1f9_level0_col6\" class=\"col_heading level0 col6\" >n_entities</th>\n",
       "      <th id=\"T_ec1f9_level0_col7\" class=\"col_heading level0 col7\" >n_proteins</th>\n",
       "      <th id=\"T_ec1f9_level0_col8\" class=\"col_heading level0 col8\" >n_structures</th>\n",
       "    </tr>\n",
       "  </thead>\n",
       "  <tbody>\n",
       "    <tr>\n",
       "      <td id=\"T_ec1f9_row0_col0\" class=\"data row0 col0\" >molsysmt.MolSys</td>\n",
       "      <td id=\"T_ec1f9_row0_col1\" class=\"data row0 col1\" >1516</td>\n",
       "      <td id=\"T_ec1f9_row0_col2\" class=\"data row0 col2\" >198</td>\n",
       "      <td id=\"T_ec1f9_row0_col3\" class=\"data row0 col3\" >2</td>\n",
       "      <td id=\"T_ec1f9_row0_col4\" class=\"data row0 col4\" >2</td>\n",
       "      <td id=\"T_ec1f9_row0_col5\" class=\"data row0 col5\" >2</td>\n",
       "      <td id=\"T_ec1f9_row0_col6\" class=\"data row0 col6\" >1</td>\n",
       "      <td id=\"T_ec1f9_row0_col7\" class=\"data row0 col7\" >2</td>\n",
       "      <td id=\"T_ec1f9_row0_col8\" class=\"data row0 col8\" >1</td>\n",
       "    </tr>\n",
       "  </tbody>\n",
       "</table>\n"
      ],
      "text/plain": [
       "<pandas.io.formats.style.Styler at 0x7f89213979d0>"
      ]
     },
     "execution_count": 7,
     "metadata": {},
     "output_type": "execute_result"
    }
   ],
   "source": [
    "msm.info(molecular_system)"
   ]
  },
  {
   "cell_type": "markdown",
   "id": "8219baa1-43a9-412a-a6ed-665bfd982e97",
   "metadata": {},
   "source": [
    "## Castp"
   ]
  },
  {
   "cell_type": "code",
   "execution_count": 21,
   "id": "0ebdb631-ae49-4641-ac36-296352aa159c",
   "metadata": {},
   "outputs": [],
   "source": [
    "pocket = []\n",
    "with open('castp/1hiv/1hiv.poc') as file:\n",
    "    for line in file:\n",
    "        fields = line.rstrip().split()\n",
    "        if fields[-2]=='1':\n",
    "            pocket.append(int(fields[1]))\n",
    "\n",
    "pocket = msm.get(molecular_system, element='atom', selection='atom_id==@pocket', atom_index=True)"
   ]
  },
  {
   "cell_type": "code",
   "execution_count": 36,
   "id": "0f4ffa2c-530d-49cb-942a-b5b73be7ce3d",
   "metadata": {},
   "outputs": [
    {
     "data": {
      "application/vnd.jupyter.widget-view+json": {
       "model_id": "1dc5738ed8bc4e25abb10109403b2b7c",
       "version_major": 2,
       "version_minor": 0
      },
      "text/plain": [
       "NGLWidget()"
      ]
     },
     "metadata": {},
     "output_type": "display_data"
    }
   ],
   "source": [
    "view=msm.view(molecular_system)\n",
    "view"
   ]
  },
  {
   "cell_type": "code",
   "execution_count": 37,
   "id": "1eb9b65c-6618-4787-97e1-637fa55826ab",
   "metadata": {},
   "outputs": [],
   "source": [
    "view.clear()\n",
    "#view.add_surface(color='w', opacity=0.5)\n",
    "view.add_ball_and_stick(color='w', opacity=0.5)"
   ]
  },
  {
   "cell_type": "code",
   "execution_count": 38,
   "id": "14eae0cb-999e-4817-ad58-55998a4ef9f5",
   "metadata": {},
   "outputs": [],
   "source": [
    "sel='@'+','.join([str(ii) for ii in pocket])\n",
    "#view.add_surface(sel, color='red', opacity=0.3)\n",
    "view.add_ball_and_stick(sel, color='red', opacity=0.3)"
   ]
  },
  {
   "cell_type": "code",
   "execution_count": 39,
   "id": "41bbf137-a658-4caf-a49d-16a823b485fc",
   "metadata": {},
   "outputs": [
    {
     "data": {
      "text/plain": [
       "array([  66,   67,   68,   69,   70,   71,  180,  181,  196,  197,  201,\n",
       "        206,  207,  208,  210,  211,  213,  214,  218,  219,  220,  221,\n",
       "        222,  225,  226,  229,  243,  365,  367,  368,  369,  370,  371,\n",
       "        372,  373,  374,  375,  376,  377,  378,  381,  382,  383,  401,\n",
       "        402,  403,  585,  610,  616,  617,  618,  624,  625,  640,  641,\n",
       "        661,  825,  826,  827,  828,  829,  830,  939,  940,  956,  960,\n",
       "        965,  966,  967,  969,  970,  972,  973,  977,  978,  979,  980,\n",
       "        981,  984,  985,  988, 1002, 1121, 1124, 1126, 1127, 1128, 1129,\n",
       "       1130, 1131, 1132, 1133, 1136, 1140, 1141, 1143, 1161, 1162, 1370,\n",
       "       1376, 1377, 1383, 1399, 1400, 1420])"
      ]
     },
     "execution_count": 39,
     "metadata": {},
     "output_type": "execute_result"
    }
   ],
   "source": [
    "pocket"
   ]
  },
  {
   "cell_type": "markdown",
   "id": "e81af67c-c789-4ae0-a14c-4b3e30a838bb",
   "metadata": {},
   "source": [
    "# Mine"
   ]
  },
  {
   "cell_type": "code",
   "execution_count": 40,
   "id": "2de0e668-4c55-4a02-be07-3fe5cb4fb5e2",
   "metadata": {},
   "outputs": [],
   "source": [
    "coordinates = msm.get(molecular_system, coordinates=True)"
   ]
  },
  {
   "cell_type": "code",
   "execution_count": 41,
   "id": "ce0f6674-38a0-44fb-b284-ca4b063b4d61",
   "metadata": {},
   "outputs": [],
   "source": [
    "coordinates = msm.pyunitwizard.get_value(coordinates[0])\n",
    "n_atoms = coordinates.shape[0]"
   ]
  },
  {
   "cell_type": "code",
   "execution_count": 42,
   "id": "130fc7c6-07ab-442b-a658-7b36e8690bc5",
   "metadata": {},
   "outputs": [],
   "source": [
    "radii = [0.2 for ii in range(n_atoms)]\n",
    "probe = 0.1"
   ]
  },
  {
   "cell_type": "code",
   "execution_count": 43,
   "id": "5b822761-7b4f-457e-a158-8b7914c33fd6",
   "metadata": {},
   "outputs": [],
   "source": [
    "voronoi = Voronoi(coordinates)"
   ]
  },
  {
   "cell_type": "code",
   "execution_count": 44,
   "id": "be1f6801-4576-41bc-805c-4beb2271cf2e",
   "metadata": {},
   "outputs": [],
   "source": [
    "centers = voronoi.vertices\n",
    "n_alphaspheres = centers.shape[0]"
   ]
  },
  {
   "cell_type": "code",
   "execution_count": 45,
   "id": "79553fd9-1ce0-4a16-8e1c-02be9a3ee2f7",
   "metadata": {},
   "outputs": [],
   "source": [
    "atoms_of_alphasphere = {ii:[] for ii in range(n_alphaspheres)}\n",
    "atoms_of_alphasphere[-1] = []\n",
    "alphaspheres_of_atom = {ii:[] for ii in range(n_atoms)}"
   ]
  },
  {
   "cell_type": "code",
   "execution_count": 46,
   "id": "a00c85fa-d318-4fe3-8e79-ff484ca9b57e",
   "metadata": {},
   "outputs": [],
   "source": [
    "for atom_index, region_index in enumerate(voronoi.point_region):\n",
    "    for alphasphere_index in voronoi.regions[region_index]:\n",
    "        atoms_of_alphasphere[alphasphere_index].append(atom_index)\n",
    "        alphaspheres_of_atom[atom_index].append(alphasphere_index)"
   ]
  },
  {
   "cell_type": "code",
   "execution_count": 67,
   "id": "13806276-e97b-4032-a238-60608f7314cf",
   "metadata": {},
   "outputs": [],
   "source": [
    "alphaspheres_in_castp = []\n",
    "for ii in range(n_alphaspheres):\n",
    "    if np.isin(atoms_of_alphasphere[ii], pocket).all():\n",
    "        alphaspheres_in_castp.append(ii)"
   ]
  },
  {
   "cell_type": "code",
   "execution_count": 68,
   "id": "1467d933-ae0e-49af-bbe5-518495b2065e",
   "metadata": {},
   "outputs": [
    {
     "data": {
      "text/plain": [
       "385"
      ]
     },
     "execution_count": 68,
     "metadata": {},
     "output_type": "execute_result"
    }
   ],
   "source": [
    "alphaspheres_in_castp[0]"
   ]
  },
  {
   "cell_type": "code",
   "execution_count": 69,
   "id": "b1874e7e-46ad-4c6a-bfc9-3a2145620434",
   "metadata": {},
   "outputs": [
    {
     "data": {
      "text/plain": [
       "[616, 1129, 1130, 1161]"
      ]
     },
     "execution_count": 69,
     "metadata": {},
     "output_type": "execute_result"
    }
   ],
   "source": [
    "atoms_of_alphasphere[385]"
   ]
  },
  {
   "cell_type": "code",
   "execution_count": 55,
   "id": "f3afe92d-946e-4d29-83bc-3af42b80bda2",
   "metadata": {},
   "outputs": [
    {
     "data": {
      "text/plain": [
       "array([  66,   67,   68,   69,   70,   71,  180,  181,  196,  197,  201,\n",
       "        206,  207,  208,  210,  211,  213,  214,  218,  219,  220,  221,\n",
       "        222,  225,  226,  229,  243,  365,  367,  368,  369,  370,  371,\n",
       "        372,  373,  374,  375,  376,  377,  378,  381,  382,  383,  401,\n",
       "        402,  403,  585,  610,  616,  617,  618,  624,  625,  640,  641,\n",
       "        661,  825,  826,  827,  828,  829,  830,  939,  940,  956,  960,\n",
       "        965,  966,  967,  969,  970,  972,  973,  977,  978,  979,  980,\n",
       "        981,  984,  985,  988, 1002, 1121, 1124, 1126, 1127, 1128, 1129,\n",
       "       1130, 1131, 1132, 1133, 1136, 1140, 1141, 1143, 1161, 1162, 1370,\n",
       "       1376, 1377, 1383, 1399, 1400, 1420])"
      ]
     },
     "execution_count": 55,
     "metadata": {},
     "output_type": "execute_result"
    }
   ],
   "source": [
    "pocket"
   ]
  },
  {
   "cell_type": "code",
   "execution_count": 116,
   "id": "4d46e7b4-ef9a-4e79-8603-3e6cd01e23fa",
   "metadata": {},
   "outputs": [
    {
     "name": "stderr",
     "output_type": "stream",
     "text": [
      "100%|██████████████████████████████████████████████████████████████████████████████████████████████████████████████████████████████████| 9810/9810 [00:03<00:00, 2539.12it/s]\n"
     ]
    }
   ],
   "source": [
    "edges=[]\n",
    "interfaces={}\n",
    "\n",
    "for ii in tqdm(range(n_alphaspheres)):\n",
    "    \n",
    "    neighbors=[]\n",
    "    for jj in atoms_of_alphasphere[ii]:\n",
    "        for kk in alphaspheres_of_atom[jj]:\n",
    "            if kk>ii:\n",
    "                neighbors.append(kk)\n",
    "    neighbors=np.unique(neighbors)\n",
    "\n",
    "    interfaces[ii]={}\n",
    "    \n",
    "    for jj in neighbors:\n",
    "        common = np.intersect1d(atoms_of_alphasphere[ii], atoms_of_alphasphere[jj], assume_unique=True)\n",
    "        if len(common)>=3:\n",
    "            edges.append([ii,jj])\n",
    "            interfaces[ii][jj]=common"
   ]
  },
  {
   "cell_type": "code",
   "execution_count": 117,
   "id": "a5ab8747-81ac-44c6-b8a5-eadde5dd5a89",
   "metadata": {},
   "outputs": [
    {
     "data": {
      "text/plain": [
       "19547"
      ]
     },
     "execution_count": 117,
     "metadata": {},
     "output_type": "execute_result"
    }
   ],
   "source": [
    "len(edges)"
   ]
  },
  {
   "cell_type": "code",
   "execution_count": 118,
   "id": "d6c9161e-36de-4c6c-9c5a-3616cd3fc7ec",
   "metadata": {},
   "outputs": [],
   "source": [
    "import networkx as nx"
   ]
  },
  {
   "cell_type": "code",
   "execution_count": 119,
   "id": "d482e2eb-0c33-4c7c-9256-5d00e1798180",
   "metadata": {},
   "outputs": [],
   "source": [
    "G = nx.Graph(edges)"
   ]
  },
  {
   "cell_type": "code",
   "execution_count": 120,
   "id": "53757cb5-aabd-47d5-a230-4ee3df701331",
   "metadata": {},
   "outputs": [
    {
     "data": {
      "text/plain": [
       "AtlasView({386: {}, 391: {}, 2972: {}, 8315: {}})"
      ]
     },
     "execution_count": 120,
     "metadata": {},
     "output_type": "execute_result"
    }
   ],
   "source": [
    "G[385]"
   ]
  },
  {
   "cell_type": "code",
   "execution_count": 121,
   "id": "1447fa5c-b8e5-4d01-abc0-0ded7ffd4fac",
   "metadata": {},
   "outputs": [
    {
     "data": {
      "text/plain": [
       "{386: array([ 616, 1129, 1161]),\n",
       " 391: array([1129, 1130, 1161]),\n",
       " 2972: array([ 616, 1130, 1161]),\n",
       " 8315: array([ 616, 1129, 1130])}"
      ]
     },
     "execution_count": 121,
     "metadata": {},
     "output_type": "execute_result"
    }
   ],
   "source": [
    "interfaces[385]"
   ]
  },
  {
   "cell_type": "code",
   "execution_count": 156,
   "id": "3ddd37c6-d9f8-40cc-b619-5e6b1b456c38",
   "metadata": {},
   "outputs": [],
   "source": [
    "face_coordinates = coordinates[interfaces[385][386]]"
   ]
  },
  {
   "cell_type": "code",
   "execution_count": 157,
   "id": "888287b8-7e76-47d3-86dd-ab16b7fc3727",
   "metadata": {},
   "outputs": [],
   "source": [
    "centroid = face_coordinates.mean(axis=1)"
   ]
  },
  {
   "cell_type": "code",
   "execution_count": 158,
   "id": "8ce7c0e1-ad9d-48db-a2ca-71ba374db809",
   "metadata": {},
   "outputs": [
    {
     "data": {
      "text/plain": [
       "1.8312079237486931"
      ]
     },
     "execution_count": 158,
     "metadata": {},
     "output_type": "execute_result"
    }
   ],
   "source": [
    "euclidean(centroid, face_coordinates[0])"
   ]
  },
  {
   "cell_type": "code",
   "execution_count": 159,
   "id": "e0d774c7-a5e4-4458-ad61-2459bea11b25",
   "metadata": {},
   "outputs": [
    {
     "data": {
      "text/plain": [
       "1.725568204969018"
      ]
     },
     "execution_count": 159,
     "metadata": {},
     "output_type": "execute_result"
    }
   ],
   "source": [
    "euclidean(centroid, face_coordinates[1])"
   ]
  },
  {
   "cell_type": "code",
   "execution_count": 160,
   "id": "ee9ec213-14d4-4405-8039-4d10ea43ba7f",
   "metadata": {},
   "outputs": [
    {
     "data": {
      "text/plain": [
       "2.0939564345993444"
      ]
     },
     "execution_count": 160,
     "metadata": {},
     "output_type": "execute_result"
    }
   ],
   "source": [
    "euclidean(centroid, face_coordinates[2])"
   ]
  },
  {
   "cell_type": "code",
   "execution_count": 153,
   "id": "93ebed80-6776-415e-a175-b4c6ad2b73f3",
   "metadata": {},
   "outputs": [
    {
     "data": {
      "application/vnd.jupyter.widget-view+json": {
       "model_id": "ed8141bbbeee45aa9d2e89805596594f",
       "version_major": 2,
       "version_minor": 0
      },
      "text/plain": [
       "NGLWidget()"
      ]
     },
     "metadata": {},
     "output_type": "display_data"
    }
   ],
   "source": [
    "view=msm.view(molecular_system)\n",
    "view"
   ]
  },
  {
   "cell_type": "code",
   "execution_count": 154,
   "id": "a47d861b-8fdf-4468-af77-d4e05b0415fb",
   "metadata": {},
   "outputs": [],
   "source": [
    "view.clear()\n",
    "#view.add_surface(color='w', opacity=0.5)\n",
    "view.add_ball_and_stick(color='w', opacity=0.5)"
   ]
  },
  {
   "cell_type": "code",
   "execution_count": 161,
   "id": "f5ded5ec-82f0-40f5-ac8f-b05a32070d99",
   "metadata": {},
   "outputs": [],
   "source": [
    "for ii in [385, 386]:\n",
    "    aa=atoms_of_alphasphere[ii]\n",
    "    view.shape.add_cylinder(coordinates[aa[0]]*10, coordinates[aa[1]]*10, [1,0,0], 0.1)\n",
    "    view.shape.add_cylinder(coordinates[aa[0]]*10, coordinates[aa[2]]*10, [1,0,0], 0.1)\n",
    "    view.shape.add_cylinder(coordinates[aa[0]]*10, coordinates[aa[3]]*10, [1,0,0], 0.1)\n",
    "    view.shape.add_cylinder(coordinates[aa[1]]*10, coordinates[aa[2]]*10, [1,0,0], 0.1)\n",
    "    view.shape.add_cylinder(coordinates[aa[1]]*10, coordinates[aa[3]]*10, [1,0,0], 0.1)\n",
    "    view.shape.add_cylinder(coordinates[aa[2]]*10, coordinates[aa[3]]*10, [1,0,0], 0.1)"
   ]
  },
  {
   "cell_type": "code",
   "execution_count": null,
   "id": "b1783c87-3bff-4f08-8cd4-93db15bb3b61",
   "metadata": {},
   "outputs": [],
   "source": []
  },
  {
   "cell_type": "code",
   "execution_count": null,
   "id": "f9fe3ffa-3e71-4c12-be4f-a099ac4b527b",
   "metadata": {},
   "outputs": [],
   "source": []
  },
  {
   "cell_type": "code",
   "execution_count": null,
   "id": "282ca1f1-c3c0-4e81-bd20-faaa7d7d64ce",
   "metadata": {},
   "outputs": [],
   "source": []
  },
  {
   "cell_type": "code",
   "execution_count": null,
   "id": "5af82a6e-fdde-48c6-b324-b661079627a3",
   "metadata": {},
   "outputs": [],
   "source": [
    "len(edges)"
   ]
  },
  {
   "cell_type": "code",
   "execution_count": null,
   "id": "ebef269b-ce7e-4e2f-8883-cce7b9b8615a",
   "metadata": {},
   "outputs": [],
   "source": [
    "def atoms_are_permeable(atom_indices, coordinates, radii, probe_radius):\n",
    "\n",
    "    centroid = coordinates[atom_indices,:].mean(axis=0)\n",
    "\n",
    "    permeable=True\n",
    "    \n",
    "    for atom_index in atom_indices:\n",
    "        distance = euclidean(coordinates[atom_index], centroid)\n",
    "        if distance < radii[atom_index]+probe_radius:\n",
    "            permeable=False\n",
    "            break\n",
    "\n",
    "    return permeable"
   ]
  },
  {
   "cell_type": "code",
   "execution_count": null,
   "id": "ef3524d6-ff33-476c-b1a4-4b4ef9cf822e",
   "metadata": {},
   "outputs": [],
   "source": [
    "edges=[]\n",
    "permeability={}\n",
    "\n",
    "for kk in tqdm(range(len(voronoi.ridge_vertices))):\n",
    "    \n",
    "    aux_ridge_vertices = np.sort(voronoi.ridge_vertices[kk])\n",
    "    n = len(aux_ridge_vertices)\n",
    "\n",
    "    for ii in range(n):\n",
    "        aa = aux_ridge_vertices[ii]\n",
    "        if aa!=-1:\n",
    "            for jj in range(ii+1,n):\n",
    "                bb = aux_ridge_vertices[jj]\n",
    "                common = np.intersect1d(atoms_of_alphasphere[aa], atoms_of_alphasphere[bb], assume_unique=True)\n",
    "                common = tuple(common)\n",
    "                if len(common)>2:\n",
    "                    if common not in permeability:\n",
    "                        with_edge = atoms_are_permeable(common, coordinates, radii, probe)\n",
    "                        permeability[common]=with_edge\n",
    "                        if with_edge:\n",
    "                            edges.append([aa,bb])"
   ]
  },
  {
   "cell_type": "code",
   "execution_count": null,
   "id": "5e1b8b0e-823d-4201-b17a-c4bea8802588",
   "metadata": {},
   "outputs": [],
   "source": [
    "len(edges)"
   ]
  },
  {
   "cell_type": "code",
   "execution_count": null,
   "id": "abb74456-f64b-422d-bacf-d2098b6aca8d",
   "metadata": {},
   "outputs": [],
   "source": [
    "import networkx as nx"
   ]
  },
  {
   "cell_type": "code",
   "execution_count": null,
   "id": "c31562b2-ecb3-421a-aad3-fccfeda0dd86",
   "metadata": {},
   "outputs": [],
   "source": [
    "G = nx.Graph(edges)"
   ]
  },
  {
   "cell_type": "code",
   "execution_count": null,
   "id": "32956468-5f61-4af7-a287-a68d0472c6a1",
   "metadata": {},
   "outputs": [],
   "source": [
    "G.number_of_nodes()"
   ]
  },
  {
   "cell_type": "code",
   "execution_count": null,
   "id": "437ea382-4c32-4215-9a31-302d51706544",
   "metadata": {},
   "outputs": [],
   "source": [
    "n_alphaspheres"
   ]
  },
  {
   "cell_type": "code",
   "execution_count": null,
   "id": "74796978-e53f-450c-82d9-7670831b3794",
   "metadata": {},
   "outputs": [],
   "source": [
    "pockets = list(nx.connected_components(G))"
   ]
  },
  {
   "cell_type": "code",
   "execution_count": null,
   "id": "1946089b-bef1-41c1-9ac0-e4c1b5de2aa1",
   "metadata": {},
   "outputs": [],
   "source": [
    "len(pockets)"
   ]
  },
  {
   "cell_type": "code",
   "execution_count": null,
   "id": "dd87be07-8db7-4c1c-8fc0-f67ac0c41ba0",
   "metadata": {},
   "outputs": [],
   "source": [
    "view=msm.view(molecular_system)\n",
    "view"
   ]
  },
  {
   "cell_type": "code",
   "execution_count": null,
   "id": "bf3bee51-e53e-4446-9e96-f037ea54f6dc",
   "metadata": {},
   "outputs": [],
   "source": [
    "view.clear()\n",
    "#view.add_surface(color='w', opacity=0.5)\n",
    "view.add_ball_and_stick(color='w', opacity=0.5)"
   ]
  },
  {
   "cell_type": "code",
   "execution_count": null,
   "id": "9b8c76c7-d32e-4c9b-aef6-e668aba4480e",
   "metadata": {},
   "outputs": [],
   "source": [
    "for ii in range(len(pockets)):\n",
    "    if len(pockets[ii])>10:\n",
    "        print(ii, len(pockets[ii]))"
   ]
  },
  {
   "cell_type": "code",
   "execution_count": null,
   "id": "febd25f3-0787-4628-81c5-5750b962c159",
   "metadata": {},
   "outputs": [],
   "source": [
    "pocket = 40\n",
    "alphaspheres_in_pocket = pockets[pocket]\n",
    "atoms_in_pocket = np.concatenate([atoms_of_alphasphere[ii] for ii in alphaspheres_in_pocket])\n",
    "atoms_in_pocket = np.unique(atoms_in_pocket)\n",
    "\n",
    "print(alphaspheres_in_pocket)"
   ]
  },
  {
   "cell_type": "code",
   "execution_count": null,
   "id": "6602349b-c68b-4574-a762-6f565511bd8e",
   "metadata": {},
   "outputs": [],
   "source": [
    "sel='@'+','.join([str(ii) for ii in atoms_in_pocket])\n",
    "view.add_surface(sel, color='red', opacity=0.3)"
   ]
  },
  {
   "cell_type": "code",
   "execution_count": null,
   "id": "af531b82-f917-4285-b139-00df9dbf3fb4",
   "metadata": {},
   "outputs": [],
   "source": [
    "for ii in alphaspheres_in_pocket:\n",
    "    aa=atoms_of_alphasphere[ii]\n",
    "    view.shape.add_cylinder(coordinates[aa[0]]*10, coordinates[aa[1]]*10, [1,0,0], 0.1)\n",
    "    view.shape.add_cylinder(coordinates[aa[0]]*10, coordinates[aa[2]]*10, [1,0,0], 0.1)\n",
    "    view.shape.add_cylinder(coordinates[aa[0]]*10, coordinates[aa[3]]*10, [1,0,0], 0.1)\n",
    "    view.shape.add_cylinder(coordinates[aa[1]]*10, coordinates[aa[2]]*10, [1,0,0], 0.1)\n",
    "    view.shape.add_cylinder(coordinates[aa[1]]*10, coordinates[aa[3]]*10, [1,0,0], 0.1)\n",
    "    view.shape.add_cylinder(coordinates[aa[2]]*10, coordinates[aa[3]]*10, [1,0,0], 0.1)"
   ]
  },
  {
   "cell_type": "code",
   "execution_count": null,
   "id": "6af40180-6409-4951-b0c9-67388d5953df",
   "metadata": {},
   "outputs": [],
   "source": []
  }
 ],
 "metadata": {
  "kernelspec": {
   "display_name": "Python 3 (ipykernel)",
   "language": "python",
   "name": "python3"
  },
  "language_info": {
   "codemirror_mode": {
    "name": "ipython",
    "version": 3
   },
   "file_extension": ".py",
   "mimetype": "text/x-python",
   "name": "python",
   "nbconvert_exporter": "python",
   "pygments_lexer": "ipython3",
   "version": "3.10.12"
  }
 },
 "nbformat": 4,
 "nbformat_minor": 5
}
