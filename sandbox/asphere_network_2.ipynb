{
 "cells": [
  {
   "cell_type": "markdown",
   "id": "9048bacc-ac28-4c5e-ba36-9561a96d099b",
   "metadata": {},
   "source": [
    "# Test alpha-spheres network 2"
   ]
  },
  {
   "cell_type": "code",
   "execution_count": 1,
   "id": "cf7aef0d-3ef9-4060-a568-8a672f10998a",
   "metadata": {},
   "outputs": [
    {
     "data": {
      "application/vnd.jupyter.widget-view+json": {
       "model_id": "c134c750203746f29689198106ff30d0",
       "version_major": 2,
       "version_minor": 0
      },
      "text/plain": []
     },
     "metadata": {},
     "output_type": "display_data"
    }
   ],
   "source": [
    "import molsysmt as msm"
   ]
  },
  {
   "cell_type": "code",
   "execution_count": 2,
   "id": "57c90a91-34c2-4510-be45-71310cf88ee6",
   "metadata": {},
   "outputs": [],
   "source": [
    "from scipy.spatial import Voronoi\n",
    "from math import sqrt"
   ]
  },
  {
   "cell_type": "code",
   "execution_count": 3,
   "id": "7281f39b-3070-48fe-afe6-7dd8de4d16d1",
   "metadata": {},
   "outputs": [],
   "source": [
    "from scipy.spatial.distance import euclidean"
   ]
  },
  {
   "cell_type": "code",
   "execution_count": 4,
   "id": "7cf4b593-d09e-498c-b8f8-94687751e6b4",
   "metadata": {},
   "outputs": [],
   "source": [
    "import numpy as np"
   ]
  },
  {
   "cell_type": "code",
   "execution_count": 5,
   "id": "fe1438b3-4490-4a14-9c0f-1f40cbdf07f1",
   "metadata": {},
   "outputs": [],
   "source": [
    "from tqdm import tqdm"
   ]
  },
  {
   "cell_type": "code",
   "execution_count": 6,
   "id": "77c9fff6-bce6-4300-9988-84f06615f08c",
   "metadata": {},
   "outputs": [],
   "source": [
    "molecular_system = msm.convert('1HIV')\n",
    "molecular_system = msm.extract(molecular_system, selection='molecule_type in [\"protein\", \"peptide\"]')"
   ]
  },
  {
   "cell_type": "code",
   "execution_count": 7,
   "id": "1217e661-a40b-43f6-8d5c-d297871c1039",
   "metadata": {},
   "outputs": [
    {
     "data": {
      "text/html": [
       "<style type=\"text/css\">\n",
       "</style>\n",
       "<table id=\"T_a8bf8\">\n",
       "  <thead>\n",
       "    <tr>\n",
       "      <th id=\"T_a8bf8_level0_col0\" class=\"col_heading level0 col0\" >form</th>\n",
       "      <th id=\"T_a8bf8_level0_col1\" class=\"col_heading level0 col1\" >n_atoms</th>\n",
       "      <th id=\"T_a8bf8_level0_col2\" class=\"col_heading level0 col2\" >n_groups</th>\n",
       "      <th id=\"T_a8bf8_level0_col3\" class=\"col_heading level0 col3\" >n_components</th>\n",
       "      <th id=\"T_a8bf8_level0_col4\" class=\"col_heading level0 col4\" >n_chains</th>\n",
       "      <th id=\"T_a8bf8_level0_col5\" class=\"col_heading level0 col5\" >n_molecules</th>\n",
       "      <th id=\"T_a8bf8_level0_col6\" class=\"col_heading level0 col6\" >n_entities</th>\n",
       "      <th id=\"T_a8bf8_level0_col7\" class=\"col_heading level0 col7\" >n_proteins</th>\n",
       "      <th id=\"T_a8bf8_level0_col8\" class=\"col_heading level0 col8\" >n_structures</th>\n",
       "    </tr>\n",
       "  </thead>\n",
       "  <tbody>\n",
       "    <tr>\n",
       "      <td id=\"T_a8bf8_row0_col0\" class=\"data row0 col0\" >molsysmt.MolSys</td>\n",
       "      <td id=\"T_a8bf8_row0_col1\" class=\"data row0 col1\" >1516</td>\n",
       "      <td id=\"T_a8bf8_row0_col2\" class=\"data row0 col2\" >198</td>\n",
       "      <td id=\"T_a8bf8_row0_col3\" class=\"data row0 col3\" >2</td>\n",
       "      <td id=\"T_a8bf8_row0_col4\" class=\"data row0 col4\" >2</td>\n",
       "      <td id=\"T_a8bf8_row0_col5\" class=\"data row0 col5\" >2</td>\n",
       "      <td id=\"T_a8bf8_row0_col6\" class=\"data row0 col6\" >1</td>\n",
       "      <td id=\"T_a8bf8_row0_col7\" class=\"data row0 col7\" >2</td>\n",
       "      <td id=\"T_a8bf8_row0_col8\" class=\"data row0 col8\" >1</td>\n",
       "    </tr>\n",
       "  </tbody>\n",
       "</table>\n"
      ],
      "text/plain": [
       "<pandas.io.formats.style.Styler at 0x7f82889b39a0>"
      ]
     },
     "execution_count": 7,
     "metadata": {},
     "output_type": "execute_result"
    }
   ],
   "source": [
    "msm.info(molecular_system)"
   ]
  },
  {
   "cell_type": "markdown",
   "id": "8219baa1-43a9-412a-a6ed-665bfd982e97",
   "metadata": {},
   "source": [
    "## Castp"
   ]
  },
  {
   "cell_type": "code",
   "execution_count": 8,
   "id": "0ebdb631-ae49-4641-ac36-296352aa159c",
   "metadata": {},
   "outputs": [],
   "source": [
    "pocket = []\n",
    "with open('castp/1hiv/1hiv.poc') as file:\n",
    "    for line in file:\n",
    "        fields = line.rstrip().split()\n",
    "        if fields[-2]=='1':\n",
    "            pocket.append(int(fields[1]))\n",
    "\n",
    "pocket = msm.get(molecular_system, element='atom', selection='atom_id==@pocket', atom_index=True)"
   ]
  },
  {
   "cell_type": "code",
   "execution_count": 9,
   "id": "0f4ffa2c-530d-49cb-942a-b5b73be7ce3d",
   "metadata": {},
   "outputs": [
    {
     "data": {
      "application/vnd.jupyter.widget-view+json": {
       "model_id": "e098863a17c3492caa913da49c9f4dc0",
       "version_major": 2,
       "version_minor": 0
      },
      "text/plain": [
       "NGLWidget()"
      ]
     },
     "metadata": {},
     "output_type": "display_data"
    }
   ],
   "source": [
    "view=msm.view(molecular_system)\n",
    "view"
   ]
  },
  {
   "cell_type": "code",
   "execution_count": 10,
   "id": "1eb9b65c-6618-4787-97e1-637fa55826ab",
   "metadata": {},
   "outputs": [],
   "source": [
    "view.clear()\n",
    "#view.add_surface(color='w', opacity=0.5)\n",
    "view.add_ball_and_stick(color='w', opacity=0.5)"
   ]
  },
  {
   "cell_type": "code",
   "execution_count": 11,
   "id": "14eae0cb-999e-4817-ad58-55998a4ef9f5",
   "metadata": {},
   "outputs": [],
   "source": [
    "sel='@'+','.join([str(ii) for ii in pocket])\n",
    "#view.add_surface(sel, color='red', opacity=0.3)\n",
    "view.add_ball_and_stick(sel, color='red', opacity=0.3)"
   ]
  },
  {
   "cell_type": "code",
   "execution_count": 12,
   "id": "41bbf137-a658-4caf-a49d-16a823b485fc",
   "metadata": {},
   "outputs": [
    {
     "data": {
      "text/plain": [
       "array([  66,   67,   68,   69,   70,   71,  180,  181,  196,  197,  201,\n",
       "        206,  207,  208,  210,  211,  213,  214,  218,  219,  220,  221,\n",
       "        222,  225,  226,  229,  243,  365,  367,  368,  369,  370,  371,\n",
       "        372,  373,  374,  375,  376,  377,  378,  381,  382,  383,  401,\n",
       "        402,  403,  585,  610,  616,  617,  618,  624,  625,  640,  641,\n",
       "        661,  825,  826,  827,  828,  829,  830,  939,  940,  956,  960,\n",
       "        965,  966,  967,  969,  970,  972,  973,  977,  978,  979,  980,\n",
       "        981,  984,  985,  988, 1002, 1121, 1124, 1126, 1127, 1128, 1129,\n",
       "       1130, 1131, 1132, 1133, 1136, 1140, 1141, 1143, 1161, 1162, 1370,\n",
       "       1376, 1377, 1383, 1399, 1400, 1420])"
      ]
     },
     "execution_count": 12,
     "metadata": {},
     "output_type": "execute_result"
    }
   ],
   "source": [
    "pocket"
   ]
  },
  {
   "cell_type": "markdown",
   "id": "e81af67c-c789-4ae0-a14c-4b3e30a838bb",
   "metadata": {},
   "source": [
    "# Mine"
   ]
  },
  {
   "cell_type": "code",
   "execution_count": 93,
   "id": "43cb8a87-9e0d-4d8c-bcef-f5c4b7a9029c",
   "metadata": {},
   "outputs": [],
   "source": [
    "radio = {'C': 1.7, 'H':1.1, 'O':1.52, 'N':1.55, 'P':1.8, 'S':1.8}"
   ]
  },
  {
   "cell_type": "code",
   "execution_count": 13,
   "id": "2de0e668-4c55-4a02-be07-3fe5cb4fb5e2",
   "metadata": {},
   "outputs": [],
   "source": [
    "coordinates = msm.get(molecular_system, coordinates=True)"
   ]
  },
  {
   "cell_type": "code",
   "execution_count": 14,
   "id": "ce0f6674-38a0-44fb-b284-ca4b063b4d61",
   "metadata": {},
   "outputs": [],
   "source": [
    "coordinates = msm.pyunitwizard.get_value(coordinates[0])\n",
    "n_atoms = coordinates.shape[0]"
   ]
  },
  {
   "cell_type": "code",
   "execution_count": 94,
   "id": "130fc7c6-07ab-442b-a658-7b36e8690bc5",
   "metadata": {},
   "outputs": [],
   "source": [
    "atom_types = msm.get(molecular_system, element='atom', atom_type=True)\n",
    "radii = np.array([radio[ii]*0.1 for ii in atom_types])\n",
    "probe = 0.1"
   ]
  },
  {
   "cell_type": "code",
   "execution_count": 16,
   "id": "5b822761-7b4f-457e-a158-8b7914c33fd6",
   "metadata": {},
   "outputs": [],
   "source": [
    "voronoi = Voronoi(coordinates)"
   ]
  },
  {
   "cell_type": "code",
   "execution_count": 17,
   "id": "be1f6801-4576-41bc-805c-4beb2271cf2e",
   "metadata": {},
   "outputs": [],
   "source": [
    "centers = voronoi.vertices\n",
    "n_alphaspheres = centers.shape[0]"
   ]
  },
  {
   "cell_type": "code",
   "execution_count": 18,
   "id": "79553fd9-1ce0-4a16-8e1c-02be9a3ee2f7",
   "metadata": {},
   "outputs": [],
   "source": [
    "atoms_of_alphasphere = {ii:[] for ii in range(n_alphaspheres)}\n",
    "atoms_of_alphasphere[-1] = []\n",
    "alphaspheres_of_atom = {ii:[] for ii in range(n_atoms)}"
   ]
  },
  {
   "cell_type": "code",
   "execution_count": 19,
   "id": "a00c85fa-d318-4fe3-8e79-ff484ca9b57e",
   "metadata": {},
   "outputs": [],
   "source": [
    "for atom_index, region_index in enumerate(voronoi.point_region):\n",
    "    for alphasphere_index in voronoi.regions[region_index]:\n",
    "        atoms_of_alphasphere[alphasphere_index].append(atom_index)\n",
    "        alphaspheres_of_atom[atom_index].append(alphasphere_index)"
   ]
  },
  {
   "cell_type": "code",
   "execution_count": 20,
   "id": "13806276-e97b-4032-a238-60608f7314cf",
   "metadata": {},
   "outputs": [],
   "source": [
    "alphaspheres_in_castp = []\n",
    "for ii in range(n_alphaspheres):\n",
    "    if np.isin(atoms_of_alphasphere[ii], pocket).all():\n",
    "        alphaspheres_in_castp.append(ii)"
   ]
  },
  {
   "cell_type": "code",
   "execution_count": 121,
   "id": "75eb9900-36fa-458c-a193-6e45f281d622",
   "metadata": {},
   "outputs": [
    {
     "data": {
      "text/plain": [
       "[385,\n",
       " 386,\n",
       " 391,\n",
       " 394,\n",
       " 686,\n",
       " 869,\n",
       " 1797,\n",
       " 1803,\n",
       " 1804,\n",
       " 1805,\n",
       " 1820,\n",
       " 1823,\n",
       " 2487,\n",
       " 2731,\n",
       " 2735,\n",
       " 2737,\n",
       " 2879,\n",
       " 2882,\n",
       " 2886,\n",
       " 2971,\n",
       " 2972,\n",
       " 2973,\n",
       " 2974,\n",
       " 3054,\n",
       " 3060,\n",
       " 3061,\n",
       " 3929,\n",
       " 4167,\n",
       " 4526,\n",
       " 4530,\n",
       " 4651,\n",
       " 4652,\n",
       " 4654,\n",
       " 4660,\n",
       " 4662,\n",
       " 4666,\n",
       " 4667,\n",
       " 4668,\n",
       " 4944,\n",
       " 5070,\n",
       " 5071,\n",
       " 5076,\n",
       " 6618,\n",
       " 6619,\n",
       " 6722,\n",
       " 6723,\n",
       " 6744,\n",
       " 6750,\n",
       " 6755,\n",
       " 6763,\n",
       " 6764,\n",
       " 6832,\n",
       " 6835,\n",
       " 6836,\n",
       " 6837,\n",
       " 6842,\n",
       " 6843,\n",
       " 7127,\n",
       " 7129,\n",
       " 7130,\n",
       " 7131,\n",
       " 7132,\n",
       " 7133,\n",
       " 7134,\n",
       " 7137,\n",
       " 7138,\n",
       " 7139,\n",
       " 7140,\n",
       " 7953,\n",
       " 7991,\n",
       " 7992,\n",
       " 7994,\n",
       " 7995,\n",
       " 7996,\n",
       " 7997,\n",
       " 8005,\n",
       " 8006,\n",
       " 8007,\n",
       " 8008,\n",
       " 8009,\n",
       " 8011,\n",
       " 8230,\n",
       " 8303,\n",
       " 8305,\n",
       " 8306,\n",
       " 8307,\n",
       " 8312,\n",
       " 8313,\n",
       " 8314,\n",
       " 8315,\n",
       " 8316,\n",
       " 8317,\n",
       " 8445,\n",
       " 8467,\n",
       " 8471,\n",
       " 8472,\n",
       " 8487,\n",
       " 8503,\n",
       " 8506,\n",
       " 8507,\n",
       " 8508,\n",
       " 8509,\n",
       " 8510,\n",
       " 8513,\n",
       " 8514,\n",
       " 8515,\n",
       " 8516,\n",
       " 8517,\n",
       " 8520,\n",
       " 8521,\n",
       " 8522,\n",
       " 8523,\n",
       " 8524,\n",
       " 8526,\n",
       " 8527,\n",
       " 8528,\n",
       " 8529,\n",
       " 8535,\n",
       " 8536,\n",
       " 8537,\n",
       " 8601,\n",
       " 8602,\n",
       " 8604,\n",
       " 8718,\n",
       " 8721,\n",
       " 8722,\n",
       " 8723,\n",
       " 8724,\n",
       " 8725,\n",
       " 8726,\n",
       " 8727,\n",
       " 8728,\n",
       " 8729,\n",
       " 8730,\n",
       " 8731,\n",
       " 8732,\n",
       " 9210,\n",
       " 9244,\n",
       " 9249,\n",
       " 9250,\n",
       " 9255,\n",
       " 9256,\n",
       " 9259,\n",
       " 9260,\n",
       " 9261,\n",
       " 9262,\n",
       " 9263,\n",
       " 9264,\n",
       " 9265,\n",
       " 9266,\n",
       " 9544,\n",
       " 9547,\n",
       " 9548]"
      ]
     },
     "execution_count": 121,
     "metadata": {},
     "output_type": "execute_result"
    }
   ],
   "source": [
    "alphaspheres_in_castp"
   ]
  },
  {
   "cell_type": "code",
   "execution_count": 123,
   "id": "1467d933-ae0e-49af-bbe5-518495b2065e",
   "metadata": {},
   "outputs": [
    {
     "data": {
      "text/plain": [
       "9548"
      ]
     },
     "execution_count": 123,
     "metadata": {},
     "output_type": "execute_result"
    }
   ],
   "source": [
    "alphaspheres_in_castp[-1]"
   ]
  },
  {
   "cell_type": "code",
   "execution_count": 124,
   "id": "b1874e7e-46ad-4c6a-bfc9-3a2145620434",
   "metadata": {},
   "outputs": [
    {
     "data": {
      "text/plain": [
       "[610, 617, 618, 1140]"
      ]
     },
     "execution_count": 124,
     "metadata": {},
     "output_type": "execute_result"
    }
   ],
   "source": [
    "atoms_of_alphasphere[9548]"
   ]
  },
  {
   "cell_type": "code",
   "execution_count": 125,
   "id": "f3afe92d-946e-4d29-83bc-3af42b80bda2",
   "metadata": {},
   "outputs": [
    {
     "data": {
      "text/plain": [
       "array([  66,   67,   68,   69,   70,   71,  180,  181,  196,  197,  201,\n",
       "        206,  207,  208,  210,  211,  213,  214,  218,  219,  220,  221,\n",
       "        222,  225,  226,  229,  243,  365,  367,  368,  369,  370,  371,\n",
       "        372,  373,  374,  375,  376,  377,  378,  381,  382,  383,  401,\n",
       "        402,  403,  585,  610,  616,  617,  618,  624,  625,  640,  641,\n",
       "        661,  825,  826,  827,  828,  829,  830,  939,  940,  956,  960,\n",
       "        965,  966,  967,  969,  970,  972,  973,  977,  978,  979,  980,\n",
       "        981,  984,  985,  988, 1002, 1121, 1124, 1126, 1127, 1128, 1129,\n",
       "       1130, 1131, 1132, 1133, 1136, 1140, 1141, 1143, 1161, 1162, 1370,\n",
       "       1376, 1377, 1383, 1399, 1400, 1420])"
      ]
     },
     "execution_count": 125,
     "metadata": {},
     "output_type": "execute_result"
    }
   ],
   "source": [
    "pocket"
   ]
  },
  {
   "cell_type": "code",
   "execution_count": 24,
   "id": "4d46e7b4-ef9a-4e79-8603-3e6cd01e23fa",
   "metadata": {},
   "outputs": [
    {
     "name": "stderr",
     "output_type": "stream",
     "text": [
      "100%|█████████████████████████████████████████████████████████| 9810/9810 [00:04<00:00, 2032.07it/s]\n"
     ]
    }
   ],
   "source": [
    "edges=[]\n",
    "interfaces={}\n",
    "\n",
    "for ii in tqdm(range(n_alphaspheres)):\n",
    "    \n",
    "    neighbors=[]\n",
    "    for jj in atoms_of_alphasphere[ii]:\n",
    "        for kk in alphaspheres_of_atom[jj]:\n",
    "            if kk>ii:\n",
    "                neighbors.append(kk)\n",
    "    neighbors=np.unique(neighbors)\n",
    "\n",
    "    interfaces[ii]={}\n",
    "    \n",
    "    for jj in neighbors:\n",
    "        common = np.intersect1d(atoms_of_alphasphere[ii], atoms_of_alphasphere[jj], assume_unique=True)\n",
    "        if len(common)>=3:\n",
    "            edges.append([ii,jj])\n",
    "            interfaces[ii][jj]=common"
   ]
  },
  {
   "cell_type": "code",
   "execution_count": 25,
   "id": "a5ab8747-81ac-44c6-b8a5-eadde5dd5a89",
   "metadata": {},
   "outputs": [
    {
     "data": {
      "text/plain": [
       "19547"
      ]
     },
     "execution_count": 25,
     "metadata": {},
     "output_type": "execute_result"
    }
   ],
   "source": [
    "len(edges)"
   ]
  },
  {
   "cell_type": "code",
   "execution_count": 26,
   "id": "d6c9161e-36de-4c6c-9c5a-3616cd3fc7ec",
   "metadata": {},
   "outputs": [],
   "source": [
    "import networkx as nx"
   ]
  },
  {
   "cell_type": "code",
   "execution_count": 27,
   "id": "d482e2eb-0c33-4c7c-9256-5d00e1798180",
   "metadata": {},
   "outputs": [],
   "source": [
    "G = nx.Graph(edges)"
   ]
  },
  {
   "cell_type": "code",
   "execution_count": 126,
   "id": "53757cb5-aabd-47d5-a230-4ee3df701331",
   "metadata": {},
   "outputs": [
    {
     "data": {
      "text/plain": [
       "AtlasView({9208: {}, 9544: {}, 9551: {}, 9552: {}})"
      ]
     },
     "execution_count": 126,
     "metadata": {},
     "output_type": "execute_result"
    }
   ],
   "source": [
    "G[9548]"
   ]
  },
  {
   "cell_type": "code",
   "execution_count": 127,
   "id": "1447fa5c-b8e5-4d01-abc0-0ded7ffd4fac",
   "metadata": {},
   "outputs": [
    {
     "data": {
      "text/plain": [
       "{9551: array([ 617,  618, 1140]), 9552: array([ 610,  618, 1140])}"
      ]
     },
     "execution_count": 127,
     "metadata": {},
     "output_type": "execute_result"
    }
   ],
   "source": [
    "interfaces[9548]"
   ]
  },
  {
   "cell_type": "code",
   "execution_count": 155,
   "id": "27a4389b-60dd-40e1-af2a-b7703fe5b3e4",
   "metadata": {},
   "outputs": [],
   "source": [
    "aaa = 9548\n",
    "bbb = 9552"
   ]
  },
  {
   "cell_type": "code",
   "execution_count": 156,
   "id": "3ddd37c6-d9f8-40cc-b619-5e6b1b456c38",
   "metadata": {},
   "outputs": [],
   "source": [
    "face_coordinates = coordinates[interfaces[aaa][bbb]]"
   ]
  },
  {
   "cell_type": "code",
   "execution_count": 157,
   "id": "888287b8-7e76-47d3-86dd-ab16b7fc3727",
   "metadata": {},
   "outputs": [],
   "source": [
    "centroid = face_coordinates.mean(axis=1)"
   ]
  },
  {
   "cell_type": "code",
   "execution_count": 158,
   "id": "8ce7c0e1-ad9d-48db-a2ca-71ba374db809",
   "metadata": {},
   "outputs": [
    {
     "data": {
      "text/plain": [
       "1.3585085073139749"
      ]
     },
     "execution_count": 158,
     "metadata": {},
     "output_type": "execute_result"
    }
   ],
   "source": [
    "euclidean(centroid, face_coordinates[0])"
   ]
  },
  {
   "cell_type": "code",
   "execution_count": 159,
   "id": "e0d774c7-a5e4-4458-ad61-2459bea11b25",
   "metadata": {},
   "outputs": [
    {
     "data": {
      "text/plain": [
       "1.4311952630969371"
      ]
     },
     "execution_count": 159,
     "metadata": {},
     "output_type": "execute_result"
    }
   ],
   "source": [
    "euclidean(centroid, face_coordinates[1])"
   ]
  },
  {
   "cell_type": "code",
   "execution_count": 160,
   "id": "ee9ec213-14d4-4405-8039-4d10ea43ba7f",
   "metadata": {},
   "outputs": [
    {
     "data": {
      "text/plain": [
       "1.074609706410244"
      ]
     },
     "execution_count": 160,
     "metadata": {},
     "output_type": "execute_result"
    }
   ],
   "source": [
    "euclidean(centroid, face_coordinates[2])"
   ]
  },
  {
   "cell_type": "code",
   "execution_count": 161,
   "id": "93ebed80-6776-415e-a175-b4c6ad2b73f3",
   "metadata": {},
   "outputs": [
    {
     "data": {
      "application/vnd.jupyter.widget-view+json": {
       "model_id": "3e1a2388608d423dbbfe95c6e3c3e9cb",
       "version_major": 2,
       "version_minor": 0
      },
      "text/plain": [
       "NGLWidget()"
      ]
     },
     "metadata": {},
     "output_type": "display_data"
    }
   ],
   "source": [
    "view=msm.view(molecular_system)\n",
    "\n",
    "view.clear()\n",
    "#view.add_surface(color='w', opacity=0.5)\n",
    "view.add_ball_and_stick(color='w', opacity=0.5)\n",
    "\n",
    "for ii in [aaa, bbb]:\n",
    "    aa=atoms_of_alphasphere[ii]\n",
    "    view.shape.add_cylinder(coordinates[aa[0]]*10, coordinates[aa[1]]*10, [1,0,0], 0.1)\n",
    "    view.shape.add_cylinder(coordinates[aa[0]]*10, coordinates[aa[2]]*10, [1,0,0], 0.1)\n",
    "    view.shape.add_cylinder(coordinates[aa[0]]*10, coordinates[aa[3]]*10, [1,0,0], 0.1)\n",
    "    view.shape.add_cylinder(coordinates[aa[1]]*10, coordinates[aa[2]]*10, [1,0,0], 0.1)\n",
    "    view.shape.add_cylinder(coordinates[aa[1]]*10, coordinates[aa[3]]*10, [1,0,0], 0.1)\n",
    "    view.shape.add_cylinder(coordinates[aa[2]]*10, coordinates[aa[3]]*10, [1,0,0], 0.1)\n",
    "\n",
    "view"
   ]
  },
  {
   "cell_type": "code",
   "execution_count": 162,
   "id": "ebef269b-ce7e-4e2f-8883-cce7b9b8615a",
   "metadata": {},
   "outputs": [],
   "source": [
    "def face_is_permeable(atom_indices, coordinates, radii, probe_radius):\n",
    "\n",
    "    if len(atom_indices)>3:\n",
    "        raise ValueError('no se ver si es permeable')\n",
    "    \n",
    "    c = coordinates[atom_indices]\n",
    "    r = radii[atom_indices]\n",
    "    rp = probe_radius\n",
    "    \n",
    "    pasa=False\n",
    "\n",
    "    for ii,jj,kk in [[0, 1, 2], [0, 2, 1], [1, 2, 0]]:\n",
    "        \n",
    "        v21=c[ii]-c[jj]\n",
    "        d21=sqrt(v21[0]**2+v21[1]**2+v21[2]**2)\n",
    "        u21=v21/d21\n",
    "\n",
    "        if d21>=(r[ii]+r[jj]+2*rp):\n",
    "\n",
    "            t=c[ii]+(r[ii]+rp)*u21\n",
    "            pasa = ((t[0]-c[kk][0])**2+(t[1]-c[kk][1])**2+(t[2]-c[kk][2])**2)>=(r[kk]+rp)**2\n",
    "        \n",
    "            if not pasa:\n",
    "                t=c[jj]-(r[jj]+rp)*u21\n",
    "                pasa = ((t[0]-c[kk][0])**2+(t[1]-c[kk][1])**2+(t[2]-c[kk][2])**2)>=(r[kk]+rp)**2\n",
    "\n",
    "        if pasa:\n",
    "            break\n",
    "    \n",
    "    return pasa"
   ]
  },
  {
   "cell_type": "code",
   "execution_count": 163,
   "id": "e3208cf6-5599-4c4a-ba4a-66d9f5ce7965",
   "metadata": {},
   "outputs": [
    {
     "data": {
      "text/plain": [
       "False"
      ]
     },
     "execution_count": 163,
     "metadata": {},
     "output_type": "execute_result"
    }
   ],
   "source": [
    "face_is_permeable(interfaces[aaa][bbb], coordinates, radii, probe)"
   ]
  },
  {
   "cell_type": "code",
   "execution_count": 111,
   "id": "739a6dc1-40fa-49e5-b1a1-c86d1808f7fb",
   "metadata": {},
   "outputs": [
    {
     "data": {
      "text/plain": [
       "array([ 616, 1130, 1161])"
      ]
     },
     "execution_count": 111,
     "metadata": {},
     "output_type": "execute_result"
    }
   ],
   "source": [
    "interfaces[aaa][bbb]"
   ]
  },
  {
   "cell_type": "code",
   "execution_count": null,
   "id": "9916977a-527e-474b-9baa-2f71f85033d1",
   "metadata": {},
   "outputs": [],
   "source": []
  },
  {
   "cell_type": "code",
   "execution_count": null,
   "id": "1f823c58-ace7-4ad9-93df-0dd102b091bd",
   "metadata": {},
   "outputs": [],
   "source": []
  },
  {
   "cell_type": "code",
   "execution_count": null,
   "id": "cbe94e10-01d3-43df-865d-6e74a9bc6c87",
   "metadata": {},
   "outputs": [],
   "source": []
  },
  {
   "cell_type": "code",
   "execution_count": null,
   "id": "8818a221-65cd-479e-9d72-4a881b7695ad",
   "metadata": {},
   "outputs": [],
   "source": []
  },
  {
   "cell_type": "code",
   "execution_count": null,
   "id": "ede26425-69ab-4524-a3b2-6ba0e570f1c8",
   "metadata": {},
   "outputs": [],
   "source": []
  },
  {
   "cell_type": "code",
   "execution_count": null,
   "id": "56a043b7-b88a-4f1b-b708-5c18d87608ab",
   "metadata": {},
   "outputs": [],
   "source": []
  },
  {
   "cell_type": "code",
   "execution_count": null,
   "id": "dd87be07-8db7-4c1c-8fc0-f67ac0c41ba0",
   "metadata": {},
   "outputs": [],
   "source": [
    "view=msm.view(molecular_system)\n",
    "view"
   ]
  },
  {
   "cell_type": "code",
   "execution_count": null,
   "id": "bf3bee51-e53e-4446-9e96-f037ea54f6dc",
   "metadata": {},
   "outputs": [],
   "source": [
    "view.clear()\n",
    "#view.add_surface(color='w', opacity=0.5)\n",
    "view.add_ball_and_stick(color='w', opacity=0.5)"
   ]
  },
  {
   "cell_type": "code",
   "execution_count": null,
   "id": "9b8c76c7-d32e-4c9b-aef6-e668aba4480e",
   "metadata": {},
   "outputs": [],
   "source": [
    "for ii in range(len(pockets)):\n",
    "    if len(pockets[ii])>10:\n",
    "        print(ii, len(pockets[ii]))"
   ]
  },
  {
   "cell_type": "code",
   "execution_count": null,
   "id": "febd25f3-0787-4628-81c5-5750b962c159",
   "metadata": {},
   "outputs": [],
   "source": [
    "pocket = 40\n",
    "alphaspheres_in_pocket = pockets[pocket]\n",
    "atoms_in_pocket = np.concatenate([atoms_of_alphasphere[ii] for ii in alphaspheres_in_pocket])\n",
    "atoms_in_pocket = np.unique(atoms_in_pocket)\n",
    "\n",
    "print(alphaspheres_in_pocket)"
   ]
  },
  {
   "cell_type": "code",
   "execution_count": null,
   "id": "6602349b-c68b-4574-a762-6f565511bd8e",
   "metadata": {},
   "outputs": [],
   "source": [
    "sel='@'+','.join([str(ii) for ii in atoms_in_pocket])\n",
    "view.add_surface(sel, color='red', opacity=0.3)"
   ]
  },
  {
   "cell_type": "code",
   "execution_count": null,
   "id": "af531b82-f917-4285-b139-00df9dbf3fb4",
   "metadata": {},
   "outputs": [],
   "source": [
    "for ii in alphaspheres_in_pocket:\n",
    "    aa=atoms_of_alphasphere[ii]\n",
    "    view.shape.add_cylinder(coordinates[aa[0]]*10, coordinates[aa[1]]*10, [1,0,0], 0.1)\n",
    "    view.shape.add_cylinder(coordinates[aa[0]]*10, coordinates[aa[2]]*10, [1,0,0], 0.1)\n",
    "    view.shape.add_cylinder(coordinates[aa[0]]*10, coordinates[aa[3]]*10, [1,0,0], 0.1)\n",
    "    view.shape.add_cylinder(coordinates[aa[1]]*10, coordinates[aa[2]]*10, [1,0,0], 0.1)\n",
    "    view.shape.add_cylinder(coordinates[aa[1]]*10, coordinates[aa[3]]*10, [1,0,0], 0.1)\n",
    "    view.shape.add_cylinder(coordinates[aa[2]]*10, coordinates[aa[3]]*10, [1,0,0], 0.1)"
   ]
  },
  {
   "cell_type": "code",
   "execution_count": null,
   "id": "6af40180-6409-4951-b0c9-67388d5953df",
   "metadata": {},
   "outputs": [],
   "source": []
  }
 ],
 "metadata": {
  "kernelspec": {
   "display_name": "Python 3 (ipykernel)",
   "language": "python",
   "name": "python3"
  },
  "language_info": {
   "codemirror_mode": {
    "name": "ipython",
    "version": 3
   },
   "file_extension": ".py",
   "mimetype": "text/x-python",
   "name": "python",
   "nbconvert_exporter": "python",
   "pygments_lexer": "ipython3",
   "version": "3.10.12"
  }
 },
 "nbformat": 4,
 "nbformat_minor": 5
}
