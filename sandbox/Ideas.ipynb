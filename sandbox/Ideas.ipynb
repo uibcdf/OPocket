{
 "cells": [
  {
   "cell_type": "markdown",
   "id": "8035b4ec-c099-4ce9-863d-dcdb8ba72fcc",
   "metadata": {},
   "source": [
    "# Ideas\n",
    "\n",
    "- Tiene sentido quitar todas las alpha esperas que están fuera del convex hull?"
   ]
  },
  {
   "cell_type": "code",
   "execution_count": null,
   "id": "b6e7de20-f944-4079-b775-a015c805eb06",
   "metadata": {},
   "outputs": [],
   "source": []
  }
 ],
 "metadata": {
  "kernelspec": {
   "display_name": "Python 3 (ipykernel)",
   "language": "python",
   "name": "python3"
  },
  "language_info": {
   "codemirror_mode": {
    "name": "ipython",
    "version": 3
   },
   "file_extension": ".py",
   "mimetype": "text/x-python",
   "name": "python",
   "nbconvert_exporter": "python",
   "pygments_lexer": "ipython3",
   "version": "3.9.15"
  }
 },
 "nbformat": 4,
 "nbformat_minor": 5
}
