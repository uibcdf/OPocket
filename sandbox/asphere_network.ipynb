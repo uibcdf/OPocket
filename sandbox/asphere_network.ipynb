{
 "cells": [
  {
   "cell_type": "markdown",
   "id": "9048bacc-ac28-4c5e-ba36-9561a96d099b",
   "metadata": {},
   "source": [
    "# Test alpha-spheres network"
   ]
  },
  {
   "cell_type": "code",
   "execution_count": 1,
   "id": "cf7aef0d-3ef9-4060-a568-8a672f10998a",
   "metadata": {},
   "outputs": [
    {
     "data": {
      "application/vnd.jupyter.widget-view+json": {
       "model_id": "3d0d7a622f374482a49ac5383b4da52e",
       "version_major": 2,
       "version_minor": 0
      },
      "text/plain": []
     },
     "metadata": {},
     "output_type": "display_data"
    }
   ],
   "source": [
    "import molsysmt as msm"
   ]
  },
  {
   "cell_type": "code",
   "execution_count": 2,
   "id": "57c90a91-34c2-4510-be45-71310cf88ee6",
   "metadata": {},
   "outputs": [],
   "source": [
    "from scipy.spatial import Voronoi\n",
    "from math import sqrt"
   ]
  },
  {
   "cell_type": "code",
   "execution_count": 16,
   "id": "7281f39b-3070-48fe-afe6-7dd8de4d16d1",
   "metadata": {},
   "outputs": [],
   "source": [
    "from scipy.spatial.distance import euclidean"
   ]
  },
  {
   "cell_type": "code",
   "execution_count": 21,
   "id": "7cf4b593-d09e-498c-b8f8-94687751e6b4",
   "metadata": {},
   "outputs": [],
   "source": [
    "import numpy as np"
   ]
  },
  {
   "cell_type": "code",
   "execution_count": 4,
   "id": "77c9fff6-bce6-4300-9988-84f06615f08c",
   "metadata": {},
   "outputs": [],
   "source": [
    "molecular_system = msm.convert('1TCD')"
   ]
  },
  {
   "cell_type": "code",
   "execution_count": 5,
   "id": "2de0e668-4c55-4a02-be07-3fe5cb4fb5e2",
   "metadata": {},
   "outputs": [],
   "source": [
    "coordinates = msm.get(molecular_system, coordinates=True)"
   ]
  },
  {
   "cell_type": "code",
   "execution_count": 6,
   "id": "ce0f6674-38a0-44fb-b284-ca4b063b4d61",
   "metadata": {},
   "outputs": [],
   "source": [
    "coordinates = msm.pyunitwizard.get_value(coordinates[0])\n",
    "n_atoms = coordinates.shape[0]"
   ]
  },
  {
   "cell_type": "code",
   "execution_count": 8,
   "id": "130fc7c6-07ab-442b-a658-7b36e8690bc5",
   "metadata": {},
   "outputs": [],
   "source": [
    "radii = [0.1 for ii in range(n_atoms)]"
   ]
  },
  {
   "cell_type": "code",
   "execution_count": 9,
   "id": "5b822761-7b4f-457e-a158-8b7914c33fd6",
   "metadata": {},
   "outputs": [],
   "source": [
    "voronoi = Voronoi(coordinates)"
   ]
  },
  {
   "cell_type": "code",
   "execution_count": 10,
   "id": "be1f6801-4576-41bc-805c-4beb2271cf2e",
   "metadata": {},
   "outputs": [],
   "source": [
    "centers = voronoi.vertices\n",
    "n_alphaspheres = centers.shape[0]"
   ]
  },
  {
   "cell_type": "code",
   "execution_count": 11,
   "id": "79553fd9-1ce0-4a16-8e1c-02be9a3ee2f7",
   "metadata": {},
   "outputs": [],
   "source": [
    "atoms_of_alphasphere = {ii:[] for ii in range(n_alphaspheres)}\n",
    "atoms_of_alphasphere[-1] = []\n",
    "alphaspheres_of_atom = {ii:[] for ii in range(n_atoms)}"
   ]
  },
  {
   "cell_type": "code",
   "execution_count": 12,
   "id": "a00c85fa-d318-4fe3-8e79-ff484ca9b57e",
   "metadata": {},
   "outputs": [],
   "source": [
    "for atom_index, region_index in enumerate(voronoi.point_region):\n",
    "    for alphasphere_index in voronoi.regions[region_index]:\n",
    "        atoms_of_alphasphere[alphasphere_index].append(atom_index)\n",
    "        alphaspheres_of_atom[atom_index].append(alphasphere_index)"
   ]
  },
  {
   "cell_type": "code",
   "execution_count": 28,
   "id": "ebef269b-ce7e-4e2f-8883-cce7b9b8615a",
   "metadata": {},
   "outputs": [],
   "source": [
    "def atoms_are_permeable(atom_indices, coordinates, radii, probe_radius):\n",
    "\n",
    "    centroid = coordinates[atom_indices].mean(axis=0)\n",
    "\n",
    "    permeable=True\n",
    "    \n",
    "    for atom_index in atom_indices:\n",
    "        distance = euclidean(coordinates[atom_index], centroid)\n",
    "        if distance < radii[atom_index]+probe_radius:\n",
    "            permeable=False\n",
    "            break\n",
    "\n",
    "    return permeable"
   ]
  },
  {
   "cell_type": "code",
   "execution_count": 41,
   "id": "9050397d-65a4-49b4-a875-1eaf8ab7cf46",
   "metadata": {},
   "outputs": [],
   "source": [
    "edges = []\n",
    "\n",
    "checked = np.zeros([n_alphaspheres, n_alphaspheres], dtype=bool)\n",
    "permeability = {}\n",
    "\n",
    "for kk in range(len(voronoi.ridge_vertices)):\n",
    "    \n",
    "    aux_ridge_vertices = np.sort(voronoi.ridge_vertices[kk])\n",
    "    n = len(aux_ridge_vertices)\n",
    "\n",
    "    for ii in range(n):\n",
    "        for jj in range(ii+1,n):\n",
    "            aa = aux_ridge_vertices[ii]\n",
    "            bb = aux_ridge_vertices[jj]\n",
    "            if not checked[aa,bb]:\n",
    "                checked[aa,bb] = True\n",
    "                with_edge=True\n",
    "                common = np.intersect1d(atoms_of_alphasphere[aa], atoms_of_alphasphere[bb], assume_unique=True)\n",
    "                try:\n",
    "                    with_edge=permeability[tuple(common)]\n",
    "                except:\n",
    "                    with_edge = atoms_are_permeable(common, coordinates, radii, 0.1)\n",
    "                    permeability[tuple(common)]=with_edge\n",
    "                if with_edge:\n",
    "                    edges.append([aa,bb])"
   ]
  },
  {
   "cell_type": "code",
   "execution_count": 43,
   "id": "f60124dd-bac4-49f6-973b-5b5a88a65a8d",
   "metadata": {},
   "outputs": [
    {
     "name": "stdout",
     "output_type": "stream",
     "text": [
      "26227\n"
     ]
    }
   ],
   "source": [
    "print(n_alphaspheres)"
   ]
  },
  {
   "cell_type": "code",
   "execution_count": 42,
   "id": "64076261-a250-48df-8a53-dd0edfff5e3e",
   "metadata": {},
   "outputs": [
    {
     "data": {
      "text/plain": [
       "71105"
      ]
     },
     "execution_count": 42,
     "metadata": {},
     "output_type": "execute_result"
    }
   ],
   "source": [
    "len(edges)"
   ]
  },
  {
   "cell_type": "code",
   "execution_count": null,
   "id": "c31562b2-ecb3-421a-aad3-fccfeda0dd86",
   "metadata": {},
   "outputs": [],
   "source": [
    "import networkx as nx\n",
    "G = nx.Graph()"
   ]
  },
  {
   "cell_type": "code",
   "execution_count": null,
   "id": "fa73f89b-6021-4f8c-b7e8-00fa8799e519",
   "metadata": {},
   "outputs": [],
   "source": [
    "for face, xx in face_survive.items():\n",
    "\n",
    "    if len(xx)==2:\n",
    "        G.add_edge(tuple(points_of_alphasphere[xx[0]]), tuple(points_of_alphasphere[xx[0]]))\n",
    "    elif len(xx)==1:\n",
    "        G.add_edge(tuple(points_of_alphasphere[xx[0]]), tuple(list(face)+[-1]))\n",
    "    else:\n",
    "        print('raro')"
   ]
  },
  {
   "cell_type": "code",
   "execution_count": null,
   "id": "c95b484b-13e1-4fa1-89d2-7b8173a3e678",
   "metadata": {},
   "outputs": [],
   "source": [
    "G.number_of_nodes()"
   ]
  },
  {
   "cell_type": "code",
   "execution_count": null,
   "id": "abaecd8b-e28a-48de-9687-da5b114198ef",
   "metadata": {},
   "outputs": [],
   "source": [
    "G.number_of_edges()"
   ]
  },
  {
   "cell_type": "code",
   "execution_count": null,
   "id": "582a6fd7-db4e-470f-bb16-9e51645a8e01",
   "metadata": {},
   "outputs": [],
   "source": [
    "for node in G.nodes:\n"
   ]
  },
  {
   "cell_type": "code",
   "execution_count": null,
   "id": "74796978-e53f-450c-82d9-7670831b3794",
   "metadata": {},
   "outputs": [],
   "source": [
    "components = nx.connected_components(G)"
   ]
  },
  {
   "cell_type": "code",
   "execution_count": null,
   "id": "1471d5ea-e938-4c73-aae5-a634dd137260",
   "metadata": {},
   "outputs": [],
   "source": [
    "components = list(components)"
   ]
  },
  {
   "cell_type": "code",
   "execution_count": null,
   "id": "1946089b-bef1-41c1-9ac0-e4c1b5de2aa1",
   "metadata": {},
   "outputs": [],
   "source": [
    "len(components)"
   ]
  },
  {
   "cell_type": "code",
   "execution_count": null,
   "id": "80890025-76bd-4123-a559-35c8aa39b7c3",
   "metadata": {},
   "outputs": [],
   "source": [
    "size={}\n",
    "for ii in components:\n",
    "    try:\n",
    "        size[len(ii)]+=1\n",
    "    except:\n",
    "        size[len(ii)]=1"
   ]
  },
  {
   "cell_type": "code",
   "execution_count": null,
   "id": "3c26bb61-1ea8-401b-b559-1a492bade302",
   "metadata": {},
   "outputs": [],
   "source": [
    "size"
   ]
  },
  {
   "cell_type": "code",
   "execution_count": null,
   "id": "a12909cc-315c-47b6-aa0d-ca297b869691",
   "metadata": {},
   "outputs": [],
   "source": [
    "components"
   ]
  },
  {
   "cell_type": "code",
   "execution_count": null,
   "id": "febd25f3-0787-4628-81c5-5750b962c159",
   "metadata": {},
   "outputs": [],
   "source": []
  }
 ],
 "metadata": {
  "kernelspec": {
   "display_name": "Python 3 (ipykernel)",
   "language": "python",
   "name": "python3"
  },
  "language_info": {
   "codemirror_mode": {
    "name": "ipython",
    "version": 3
   },
   "file_extension": ".py",
   "mimetype": "text/x-python",
   "name": "python",
   "nbconvert_exporter": "python",
   "pygments_lexer": "ipython3",
   "version": "3.10.12"
  }
 },
 "nbformat": 4,
 "nbformat_minor": 5
}
